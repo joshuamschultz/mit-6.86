{
 "cells": [
  {
   "cell_type": "code",
   "execution_count": 31,
   "id": "wrong-arlington",
   "metadata": {},
   "outputs": [],
   "source": [
    "from scipy.spatial import distance"
   ]
  },
  {
   "cell_type": "code",
   "execution_count": 32,
   "id": "central-fancy",
   "metadata": {},
   "outputs": [],
   "source": [
    "# Cluster 1\n",
    "x_1 = [-1,2]\n",
    "x_2 = [-2,1]\n",
    "x_3 = [-1,0]\n",
    "# Cluster 1 Representative\n",
    "z_1 = [-1,1]\n",
    "\n",
    "c_1 = [x_1, x_2, x_3]\n",
    "\n",
    "# Cluster 2\n",
    "x_4 = [2,1]\n",
    "x_5 = [3,2]\n",
    "# Cluster 2 Representative\n",
    "z_2 = [2,2]\n",
    "\n",
    "c_2 = [x_4, x_5]"
   ]
  },
  {
   "cell_type": "code",
   "execution_count": 37,
   "id": "favorite-directory",
   "metadata": {},
   "outputs": [
    {
     "name": "stdout",
     "output_type": "stream",
     "text": [
      "3.0\n"
     ]
    }
   ],
   "source": [
    "# Cluster 1 error\n",
    "cluster_1_errors = []\n",
    "\n",
    "for x in c_1:\n",
    "    error = distance.euclidean(x, z_1)\n",
    "    cluster_1_errors.append(error)\n",
    "    \n",
    "cluster_1_error = sum(cluster_1_errors)\n",
    "print(cluster_1_error)"
   ]
  },
  {
   "cell_type": "code",
   "execution_count": 36,
   "id": "secondary-equipment",
   "metadata": {},
   "outputs": [
    {
     "name": "stdout",
     "output_type": "stream",
     "text": [
      "7.123105625617661\n"
     ]
    }
   ],
   "source": [
    "# Cluster 2 error\n",
    "cluster_2_errors = []\n",
    "\n",
    "for x in c_2:\n",
    "    error = distance.euclidean(x, z_1)\n",
    "    cluster_2_errors.append(error)\n",
    "    \n",
    "cluster_2_error = sum(cluster_2_errors)\n",
    "print(cluster_2_error)"
   ]
  },
  {
   "cell_type": "code",
   "execution_count": 35,
   "id": "fitting-lover",
   "metadata": {},
   "outputs": [
    {
     "data": {
      "text/plain": [
       "10.123105625617661"
      ]
     },
     "execution_count": 35,
     "metadata": {},
     "output_type": "execute_result"
    }
   ],
   "source": [
    "clustering_error = cluster_1_error + cluster_2_error\n",
    "clustering_error"
   ]
  },
  {
   "cell_type": "code",
   "execution_count": null,
   "id": "gorgeous-shannon",
   "metadata": {},
   "outputs": [],
   "source": []
  }
 ],
 "metadata": {
  "kernelspec": {
   "display_name": "Python 3",
   "language": "python",
   "name": "python3"
  },
  "language_info": {
   "codemirror_mode": {
    "name": "ipython",
    "version": 3
   },
   "file_extension": ".py",
   "mimetype": "text/x-python",
   "name": "python",
   "nbconvert_exporter": "python",
   "pygments_lexer": "ipython3",
   "version": "3.7.10"
  }
 },
 "nbformat": 4,
 "nbformat_minor": 5
}
