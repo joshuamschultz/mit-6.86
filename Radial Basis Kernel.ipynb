{
 "cells": [
  {
   "cell_type": "markdown",
   "id": "excess-replication",
   "metadata": {},
   "source": [
    "Radial Kernel is \n",
    "\n",
    "$$ 𝐾(𝑥,𝑥′)=𝑒^{−\\frac{1}{2}||𝑥−𝑥′||^2} $$"
   ]
  },
  {
   "cell_type": "code",
   "execution_count": 5,
   "id": "cloudy-bacteria",
   "metadata": {},
   "outputs": [],
   "source": [
    "import numpy as np"
   ]
  },
  {
   "cell_type": "code",
   "execution_count": 6,
   "id": "suffering-problem",
   "metadata": {},
   "outputs": [],
   "source": [
    "x = np.array([1,0,0])\n",
    "x_prime = np.array([0,1,0])"
   ]
  },
  {
   "cell_type": "code",
   "execution_count": 8,
   "id": "advanced-sally",
   "metadata": {},
   "outputs": [
    {
     "data": {
      "text/plain": [
       "array([ 1, -1,  0])"
      ]
     },
     "execution_count": 8,
     "metadata": {},
     "output_type": "execute_result"
    }
   ],
   "source": [
    "# Euclidean Distance of Vectors\n",
    "e_d = x - x_prime\n",
    "e_d"
   ]
  },
  {
   "cell_type": "code",
   "execution_count": 12,
   "id": "stupid-independence",
   "metadata": {},
   "outputs": [],
   "source": [
    "# L2 Norm\n",
    "normed = np.sqrt(e_d**2)\n",
    "\n",
    "#then sum\n",
    "normed = np.sum(normed)"
   ]
  },
  {
   "cell_type": "code",
   "execution_count": 13,
   "id": "controlled-association",
   "metadata": {},
   "outputs": [
    {
     "data": {
      "text/plain": [
       "-1.0"
      ]
     },
     "execution_count": 13,
     "metadata": {},
     "output_type": "execute_result"
    }
   ],
   "source": [
    "#exponent\n",
    "exp = -0.5*normed\n",
    "exp"
   ]
  },
  {
   "cell_type": "code",
   "execution_count": null,
   "id": "motivated-header",
   "metadata": {},
   "outputs": [],
   "source": []
  }
 ],
 "metadata": {
  "kernelspec": {
   "display_name": "Python 3",
   "language": "python",
   "name": "python3"
  },
  "language_info": {
   "codemirror_mode": {
    "name": "ipython",
    "version": 3
   },
   "file_extension": ".py",
   "mimetype": "text/x-python",
   "name": "python",
   "nbconvert_exporter": "python",
   "pygments_lexer": "ipython3",
   "version": "3.7.10"
  }
 },
 "nbformat": 4,
 "nbformat_minor": 5
}
