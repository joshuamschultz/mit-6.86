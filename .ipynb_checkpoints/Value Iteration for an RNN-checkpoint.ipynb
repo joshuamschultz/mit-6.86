{
 "cells": [
  {
   "cell_type": "code",
   "execution_count": 2,
   "id": "7955ecc5",
   "metadata": {},
   "outputs": [],
   "source": [
    "import numpy as np"
   ]
  },
  {
   "cell_type": "markdown",
   "id": "3f944b09",
   "metadata": {},
   "source": [
    "Consider the same one-dimensional grid with reward values as in the first few problems in this vertical. However, consider the following change to the transition probabilities: At any given grid location the agent can choose to either stay at the location or move to an adjacent grid location. If the agent chooses to stay at the location, such an action is successful with probability 1/2 and\n",
    "\n",
    "if the agent is at the leftmost or rightmost grid location it ends up at its neighboring grid location with probability 1/2,\n",
    "\n",
    "if the agent is at any of the inner grid locations it has a probability 1/4 each of ending up at either of the neighboring locations.\n",
    "\n",
    "If the agent chooses to move (either left or right) at any of the inner grid locations, such an action is successful with probability 1/3 and with probability 2/3 it fails to move, and\n",
    "\n",
    "if the agent chooses to move left at the leftmost grid location, then the action ends up exactly the same as choosing to stay, i.e., staying at the leftmost grid location with probability 1/2, and ends up at its neighboring grid location with probability 1/2,\n",
    "\n",
    "if the agent chooses to move right at the rightmost grid location, then the action ends up exactly the same as choosing to stay, i.e., staying at the rightmost grid location with probability 1/2, and ends up at its neighboring grid location with probability 1/2.\n",
    "\n",
    "Let 𝛾=0.5."
   ]
  },
  {
   "cell_type": "markdown",
   "id": "cadc0a07",
   "metadata": {},
   "source": [
    "* 5 States\n",
    "* Final state has a reward of +1\n",
    "* If action is to stay, p(s = s') = 0.5\n",
    "* If action is to move\n",
    "* * Prob that s' is desired state is 1/3"
   ]
  },
  {
   "cell_type": "code",
   "execution_count": 5,
   "id": "fe666e8f",
   "metadata": {},
   "outputs": [],
   "source": [
    "# Initialize state values with 0\n",
    "V_s = [0, 0, 0, 0, 0]\n",
    "A = [0, 1, 2]\n",
    "i = 1\n",
    "\n",
    "# Transition matrix\n",
    "# Stay\n",
    "t_stay  = [[.5,.5,0,0,0],[.25,.5,.25,0,0],[0,.25,.5,.25,0],[0,0,.25,.5,.25],[0,0,0,.5,.5]]\n",
    "t_left  = [[1/2,1/2,0,0,0],[1/3,2/3,0,0,0],[0,1/3,2/3,0,0],[0,0,1/3,2/3,0],[0,0,0,1/3,2/3]]\n",
    "t_right = [[2/3,1/3,0,0,0],[0,2/3,1/3,0,0],[0,0,2/3,1/3,0],[0,0,0,2/3,1/3],[0,0,0,1/2,1/2]]\n",
    "\n",
    "T = [t_stay, t_left, t_right]\n",
    "\n",
    "# Reward matrix ex absorbant state\n",
    "## Rows = states\n",
    "## Columns = actions\n",
    "rewards = [[0,0,0],[0,0,0],[0,0,0],[0,0,1],[0,0,0,0]]\n",
    "gamma = 0.5"
   ]
  },
  {
   "cell_type": "code",
   "execution_count": null,
   "id": "8d7c3ba8",
   "metadata": {},
   "outputs": [],
   "source": [
    "def calculate_q(state, action):\n",
    "    "
   ]
  },
  {
   "cell_type": "code",
   "execution_count": 8,
   "id": "f545af1f",
   "metadata": {},
   "outputs": [
    {
     "ename": "SyntaxError",
     "evalue": "invalid syntax (<ipython-input-8-427106bd9efc>, line 6)",
     "output_type": "error",
     "traceback": [
      "\u001b[0;36m  File \u001b[0;32m\"<ipython-input-8-427106bd9efc>\"\u001b[0;36m, line \u001b[0;32m6\u001b[0m\n\u001b[0;31m    for all states in V_s:\u001b[0m\n\u001b[0m                 ^\u001b[0m\n\u001b[0;31mSyntaxError\u001b[0m\u001b[0;31m:\u001b[0m invalid syntax\n"
     ]
    }
   ],
   "source": [
    "# Value Iteration Algo\n",
    "\n",
    "\n",
    "    \n",
    "\n",
    "for all states in V_s:\n",
    "    for all actions in A:\n",
    "        q(s,a) <- sum\n",
    "    v(s) <- max\n",
    "\n",
    "\n",
    "\n",
    "        "
   ]
  },
  {
   "cell_type": "code",
   "execution_count": null,
   "id": "cf3e868d",
   "metadata": {},
   "outputs": [],
   "source": []
  }
 ],
 "metadata": {
  "kernelspec": {
   "display_name": "Python 3",
   "language": "python",
   "name": "python3"
  },
  "language_info": {
   "codemirror_mode": {
    "name": "ipython",
    "version": 3
   },
   "file_extension": ".py",
   "mimetype": "text/x-python",
   "name": "python",
   "nbconvert_exporter": "python",
   "pygments_lexer": "ipython3",
   "version": "3.7.10"
  }
 },
 "nbformat": 4,
 "nbformat_minor": 5
}
