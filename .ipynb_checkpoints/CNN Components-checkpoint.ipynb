{
 "cells": [
  {
   "cell_type": "code",
   "execution_count": 20,
   "id": "robust-breast",
   "metadata": {},
   "outputs": [],
   "source": [
    "from scipy import signal\n",
    "import numpy as np"
   ]
  },
  {
   "cell_type": "code",
   "execution_count": 8,
   "id": "interested-attraction",
   "metadata": {},
   "outputs": [
    {
     "data": {
      "text/plain": [
       "[[1, 0, 2], [3, 1, 0], [0, 0, 4]]"
      ]
     },
     "execution_count": 8,
     "metadata": {},
     "output_type": "execute_result"
    }
   ],
   "source": [
    "i = [[1,0,2],[3,1,0],[0,0,4]] #image\n",
    "f = [[1,0],[0,1]] #filter\n",
    "i"
   ]
  },
  {
   "cell_type": "code",
   "execution_count": 27,
   "id": "curious-sucking",
   "metadata": {},
   "outputs": [
    {
     "data": {
      "text/plain": [
       "array([[2, 0],\n",
       "       [3, 5]])"
      ]
     },
     "execution_count": 27,
     "metadata": {},
     "output_type": "execute_result"
    }
   ],
   "source": [
    "# Pool(ReLU(Conv(I)))\n",
    "# Filter 2x2, stride 1\n",
    "# Pool   2x2, stride 1\n",
    "\n",
    "conv_i = signal.convolve2d(i, f, mode='valid')\n",
    "conv_i"
   ]
  },
  {
   "cell_type": "code",
   "execution_count": 28,
   "id": "crucial-envelope",
   "metadata": {},
   "outputs": [],
   "source": [
    "def relu(i):\n",
    "    matrix = []\n",
    "    for r in i:\n",
    "        row = []\n",
    "        for c in r:\n",
    "            value = np.max(c,0)\n",
    "            row.append(value)\n",
    "        matrix.append(row)\n",
    "    return matrix"
   ]
  },
  {
   "cell_type": "code",
   "execution_count": 29,
   "id": "color-voltage",
   "metadata": {},
   "outputs": [
    {
     "data": {
      "text/plain": [
       "[[2, 0], [3, 5]]"
      ]
     },
     "execution_count": 29,
     "metadata": {},
     "output_type": "execute_result"
    }
   ],
   "source": [
    "activated = relu(conv_i)\n",
    "activated"
   ]
  },
  {
   "cell_type": "code",
   "execution_count": 32,
   "id": "present-mathematics",
   "metadata": {},
   "outputs": [
    {
     "data": {
      "text/plain": [
       "5"
      ]
     },
     "execution_count": 32,
     "metadata": {},
     "output_type": "execute_result"
    }
   ],
   "source": [
    "#No stride built in, not a real pool\n",
    "pool = np.max(activated)\n",
    "pool"
   ]
  },
  {
   "cell_type": "code",
   "execution_count": null,
   "id": "valid-scanner",
   "metadata": {},
   "outputs": [],
   "source": []
  }
 ],
 "metadata": {
  "kernelspec": {
   "display_name": "Python 3",
   "language": "python",
   "name": "python3"
  },
  "language_info": {
   "codemirror_mode": {
    "name": "ipython",
    "version": 3
   },
   "file_extension": ".py",
   "mimetype": "text/x-python",
   "name": "python",
   "nbconvert_exporter": "python",
   "pygments_lexer": "ipython3",
   "version": "3.7.10"
  }
 },
 "nbformat": 4,
 "nbformat_minor": 5
}
