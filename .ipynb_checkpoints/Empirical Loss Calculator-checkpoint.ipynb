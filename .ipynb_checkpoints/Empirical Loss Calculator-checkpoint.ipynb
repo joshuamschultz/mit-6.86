{
 "cells": [
  {
   "cell_type": "code",
   "execution_count": 1,
   "id": "necessary-guinea",
   "metadata": {},
   "outputs": [],
   "source": [
    "import numpy as np"
   ]
  },
  {
   "cell_type": "markdown",
   "id": "steady-ownership",
   "metadata": {},
   "source": [
    "Loss is defined as\n",
    "$ 1/n \\sum_{t=1}^{n} Loss_h(y^{(t)} - \\theta \\cdot x^{(t)})  $\n",
    "\n",
    "z "
   ]
  },
  {
   "cell_type": "code",
   "execution_count": 26,
   "id": "subject-setting",
   "metadata": {},
   "outputs": [],
   "source": [
    "x_1 = [1,0,1]\n",
    "x_2 = [1,1,1]\n",
    "x_3 = [1,1,-1]\n",
    "x_4 = [-1,1,1]\n",
    "\n",
    "x = [x_1, x_2, x_3, x_4]\n",
    "y = [2,2.7,-0.7,2]\n",
    "\n",
    "theta = [0,1,2]"
   ]
  },
  {
   "cell_type": "code",
   "execution_count": 39,
   "id": "american-singles",
   "metadata": {},
   "outputs": [],
   "source": [
    "def single_hinge_loss(x, y, theta):\n",
    "    predict = np.dot(theta,x)\n",
    "    error = y - predict\n",
    "    if error >= 1:\n",
    "        return 0\n",
    "    else: \n",
    "        return 1 - error\n",
    "     \n"
   ]
  },
  {
   "cell_type": "code",
   "execution_count": 41,
   "id": "moving-insurance",
   "metadata": {},
   "outputs": [
    {
     "name": "stdout",
     "output_type": "stream",
     "text": [
      "1.25\n"
     ]
    }
   ],
   "source": [
    "# hinge loss\n",
    "summed_loss = 0\n",
    "\n",
    "for i in range(len(x)):\n",
    "    loss = single_hinge_loss(x[i], y[i], theta)\n",
    "    summed_loss += loss\n",
    "hinge_loss =  1/len(x) * summed_loss\n",
    "print(hinge_loss)"
   ]
  },
  {
   "cell_type": "code",
   "execution_count": 44,
   "id": "compatible-verse",
   "metadata": {},
   "outputs": [],
   "source": [
    "def single_squared_error(x, y, theta):\n",
    "    predict = np.dot(theta,x)\n",
    "    error = y - predict\n",
    "    loss = error**2 / 2\n",
    "    return loss"
   ]
  },
  {
   "cell_type": "code",
   "execution_count": 45,
   "id": "swedish-picture",
   "metadata": {},
   "outputs": [
    {
     "name": "stdout",
     "output_type": "stream",
     "text": [
      "0.1475\n"
     ]
    }
   ],
   "source": [
    "# Squared Error Loss\n",
    "summed_loss = 0\n",
    "\n",
    "for i in range(len(x)):\n",
    "    loss = single_squared_error(x[i], y[i], theta)\n",
    "    summed_loss += loss\n",
    "sel =  1/len(x) * summed_loss\n",
    "print(sel)"
   ]
  },
  {
   "cell_type": "code",
   "execution_count": null,
   "id": "twelve-conservation",
   "metadata": {},
   "outputs": [],
   "source": []
  }
 ],
 "metadata": {
  "kernelspec": {
   "display_name": "Python 3",
   "language": "python",
   "name": "python3"
  },
  "language_info": {
   "codemirror_mode": {
    "name": "ipython",
    "version": 3
   },
   "file_extension": ".py",
   "mimetype": "text/x-python",
   "name": "python",
   "nbconvert_exporter": "python",
   "pygments_lexer": "ipython3",
   "version": "3.7.9"
  }
 },
 "nbformat": 4,
 "nbformat_minor": 5
}
